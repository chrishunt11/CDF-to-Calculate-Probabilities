{
 "cells": [
  {
   "cell_type": "markdown",
   "id": "e700022b",
   "metadata": {
    "heading_collapsed": true
   },
   "source": [
    "# Use CDF to calculate Probabilities\n",
    "Christopher Hunt"
   ]
  },
  {
   "cell_type": "markdown",
   "id": "35a59392",
   "metadata": {
    "heading_collapsed": true,
    "hidden": true
   },
   "source": [
    "## Instructions"
   ]
  },
  {
   "cell_type": "markdown",
   "id": "27d37d62",
   "metadata": {
    "hidden": true
   },
   "source": [
    "Use the normal cumulative distribution function with the mean and standard deviation of **female height to calculate the probability that a female's height is:**\n",
    "\n",
    "1. between 55.0 and 56.0 inches\n",
    "\n",
    "2. is less than 5 feet (60 in)\n",
    "\n",
    "3. is greater than the mean (hint: do you know this answer intuitively?)"
   ]
  },
  {
   "cell_type": "markdown",
   "id": "4e21becc",
   "metadata": {
    "heading_collapsed": true,
    "hidden": true
   },
   "source": [
    "## Imports"
   ]
  },
  {
   "cell_type": "code",
   "execution_count": 1,
   "id": "43b45cb3",
   "metadata": {
    "hidden": true
   },
   "outputs": [],
   "source": [
    "import pandas as pd\n",
    "import numpy as np\n",
    "import matplotlib.pyplot as plt\n",
    "import seaborn as sns\n",
    "import scipy.stats as stats"
   ]
  },
  {
   "cell_type": "code",
   "execution_count": 2,
   "id": "9a802df9",
   "metadata": {
    "hidden": true
   },
   "outputs": [
    {
     "data": {
      "text/html": [
       "<div>\n",
       "<style scoped>\n",
       "    .dataframe tbody tr th:only-of-type {\n",
       "        vertical-align: middle;\n",
       "    }\n",
       "\n",
       "    .dataframe tbody tr th {\n",
       "        vertical-align: top;\n",
       "    }\n",
       "\n",
       "    .dataframe thead th {\n",
       "        text-align: right;\n",
       "    }\n",
       "</style>\n",
       "<table border=\"1\" class=\"dataframe\">\n",
       "  <thead>\n",
       "    <tr style=\"text-align: right;\">\n",
       "      <th></th>\n",
       "      <th>Gender</th>\n",
       "      <th>Height</th>\n",
       "      <th>Weight</th>\n",
       "    </tr>\n",
       "  </thead>\n",
       "  <tbody>\n",
       "    <tr>\n",
       "      <th>0</th>\n",
       "      <td>Male</td>\n",
       "      <td>73.847017</td>\n",
       "      <td>241.893563</td>\n",
       "    </tr>\n",
       "    <tr>\n",
       "      <th>1</th>\n",
       "      <td>Male</td>\n",
       "      <td>68.781904</td>\n",
       "      <td>162.310473</td>\n",
       "    </tr>\n",
       "    <tr>\n",
       "      <th>2</th>\n",
       "      <td>Male</td>\n",
       "      <td>74.110105</td>\n",
       "      <td>212.740856</td>\n",
       "    </tr>\n",
       "    <tr>\n",
       "      <th>3</th>\n",
       "      <td>Male</td>\n",
       "      <td>71.730978</td>\n",
       "      <td>220.042470</td>\n",
       "    </tr>\n",
       "    <tr>\n",
       "      <th>4</th>\n",
       "      <td>Male</td>\n",
       "      <td>69.881796</td>\n",
       "      <td>206.349801</td>\n",
       "    </tr>\n",
       "  </tbody>\n",
       "</table>\n",
       "</div>"
      ],
      "text/plain": [
       "  Gender     Height      Weight\n",
       "0   Male  73.847017  241.893563\n",
       "1   Male  68.781904  162.310473\n",
       "2   Male  74.110105  212.740856\n",
       "3   Male  71.730978  220.042470\n",
       "4   Male  69.881796  206.349801"
      ]
     },
     "execution_count": 2,
     "metadata": {},
     "output_type": "execute_result"
    }
   ],
   "source": [
    "df = pd.read_csv('Data/height-weight.csv')\n",
    "df.head()"
   ]
  },
  {
   "cell_type": "code",
   "execution_count": 3,
   "id": "47abc4d7",
   "metadata": {
    "hidden": true
   },
   "outputs": [],
   "source": [
    "# seperating the males and females\n",
    "females = df.loc[df['Gender']=='Female'].copy()\n",
    "males = df.loc[df['Gender']=='Male'].copy()"
   ]
  },
  {
   "cell_type": "code",
   "execution_count": 4,
   "id": "c8efb758",
   "metadata": {
    "hidden": true
   },
   "outputs": [],
   "source": [
    "# for more reproducible code, define a variable for our data\n",
    "data = females['Height']"
   ]
  },
  {
   "cell_type": "code",
   "execution_count": 5,
   "id": "071d772a",
   "metadata": {
    "hidden": true
   },
   "outputs": [],
   "source": [
    "# define some important descriptive stats\n",
    "mean = np.mean(data)\n",
    "std = np.std(data)\n",
    "min = np.min(data)\n",
    "max = np.max(data)"
   ]
  },
  {
   "cell_type": "markdown",
   "id": "b0bbace9",
   "metadata": {
    "heading_collapsed": true,
    "hidden": true
   },
   "source": [
    "## Between 55.0 and 56.0 Inches"
   ]
  },
  {
   "cell_type": "code",
   "execution_count": 6,
   "id": "12cc45f9",
   "metadata": {
    "hidden": true
   },
   "outputs": [],
   "source": [
    "# finding the probability between 55 & 56 inches\n",
    "low_end = 55.0\n",
    "high_end = 56.0"
   ]
  },
  {
   "cell_type": "code",
   "execution_count": 18,
   "id": "c0454ac5",
   "metadata": {
    "hidden": true
   },
   "outputs": [
    {
     "data": {
      "image/png": "[encoded data removed]",
      "text/plain": [
       "<Figure size 1000x600 with 1 Axes>"
      ]
     },
     "metadata": {},
     "output_type": "display_data"
    }
   ],
   "source": [
    "# viewing this on a histogram\n",
    "fig, ax = plt.subplots(figsize=(10,6))\n",
    "sns.histplot(x=data, stat='density', kde=True)\n",
    "ax.set_title('Distribution of Female Height')\n",
    "ax.axvline(low_end, color='black')\n",
    "ax.axvline(high_end, color='black')\n",
    "ax.axvspan(low_end, high_end, color='yellow', zorder=0);"
   ]
  },
  {
   "cell_type": "code",
   "execution_count": 9,
   "id": "83c4b712",
   "metadata": {
    "hidden": true
   },
   "outputs": [
    {
     "data": {
      "text/plain": [
       "0.0015043054289559897"
      ]
     },
     "execution_count": 9,
     "metadata": {},
     "output_type": "execute_result"
    }
   ],
   "source": [
    "# we subtract to find the probability of a value occurring in the range\n",
    "stats.norm.cdf(high_end, loc=mean, scale=std) - stats.norm.cdf(low_end, loc=mean, scale=std)"
   ]
  },
  {
   "cell_type": "markdown",
   "id": "7d6bda95",
   "metadata": {
    "hidden": true
   },
   "source": [
    "The probability of a female being between 55 & 56 inches is 0.1%."
   ]
  },
  {
   "cell_type": "markdown",
   "id": "31186e8c",
   "metadata": {
    "heading_collapsed": true,
    "hidden": true
   },
   "source": [
    "## Less than 5 feet (60 inches)"
   ]
  },
  {
   "cell_type": "code",
   "execution_count": 11,
   "id": "025b262d",
   "metadata": {
    "hidden": true
   },
   "outputs": [
    {
     "data": {
      "text/plain": [
       "0.08446492725207488"
      ]
     },
     "execution_count": 11,
     "metadata": {},
     "output_type": "execute_result"
    }
   ],
   "source": [
    "stats.norm.cdf(60, loc=mean, scale=std)"
   ]
  },
  {
   "cell_type": "markdown",
   "id": "41e24601",
   "metadata": {
    "hidden": true
   },
   "source": [
    "The probability of a female being less than 60 inches tall is 8.4%."
   ]
  },
  {
   "cell_type": "markdown",
   "id": "69b69d3e",
   "metadata": {
    "heading_collapsed": true,
    "hidden": true
   },
   "source": [
    "## Greater than the mean"
   ]
  },
  {
   "cell_type": "code",
   "execution_count": 17,
   "id": "711ae7a6",
   "metadata": {
    "hidden": true
   },
   "outputs": [
    {
     "data": {
      "text/plain": [
       "0.5"
      ]
     },
     "execution_count": 17,
     "metadata": {},
     "output_type": "execute_result"
    }
   ],
   "source": [
    "1 - stats.norm.cdf(mean, loc=mean, scale=std)"
   ]
  },
  {
   "cell_type": "markdown",
   "id": "3897912e",
   "metadata": {
    "hidden": true
   },
   "source": [
    "The probability of a female being taller than the mean is 50%."
   ]
  }
 ],
 "metadata": {
  "kernelspec": {
   "display_name": "Python (dojo-env)",
   "language": "python",
   "name": "dojo-env"
  },
  "language_info": {
   "codemirror_mode": {
    "name": "ipython",
    "version": 3
   },
   "file_extension": ".py",
   "mimetype": "text/x-python",
   "name": "python",
   "nbconvert_exporter": "python",
   "pygments_lexer": "ipython3",
   "version": "3.9.15"
  },
  "toc": {
   "base_numbering": 1,
   "nav_menu": {},
   "number_sections": false,
   "sideBar": true,
   "skip_h1_title": false,
   "title_cell": "Table of Contents",
   "title_sidebar": "Contents",
   "toc_cell": false,
   "toc_position": {},
   "toc_section_display": true,
   "toc_window_display": false
  }
 },
 "nbformat": 4,
 "nbformat_minor": 5
}
